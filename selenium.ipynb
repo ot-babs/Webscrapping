{
 "cells": [
  {
   "cell_type": "code",
   "execution_count": 53,
   "metadata": {},
   "outputs": [
    {
     "name": "stdout",
     "output_type": "stream",
     "text": [
      "Requirement already satisfied: selenium in c:\\users\\olatoyosiolamidebaba\\anaconda3\\lib\\site-packages (4.4.3)\n",
      "Requirement already satisfied: certifi>=2021.10.8 in c:\\users\\olatoyosiolamidebaba\\anaconda3\\lib\\site-packages (from selenium) (2021.10.8)\n",
      "Requirement already satisfied: urllib3[socks]~=1.26 in c:\\users\\olatoyosiolamidebaba\\anaconda3\\lib\\site-packages (from selenium) (1.26.9)\n",
      "Requirement already satisfied: trio~=0.17 in c:\\users\\olatoyosiolamidebaba\\anaconda3\\lib\\site-packages (from selenium) (0.21.0)\n",
      "Requirement already satisfied: trio-websocket~=0.9 in c:\\users\\olatoyosiolamidebaba\\anaconda3\\lib\\site-packages (from selenium) (0.9.2)\n",
      "Requirement already satisfied: idna in c:\\users\\olatoyosiolamidebaba\\anaconda3\\lib\\site-packages (from trio~=0.17->selenium) (3.3)\n",
      "Requirement already satisfied: async-generator>=1.9 in c:\\users\\olatoyosiolamidebaba\\anaconda3\\lib\\site-packages (from trio~=0.17->selenium) (1.10)\n",
      "Requirement already satisfied: attrs>=19.2.0 in c:\\users\\olatoyosiolamidebaba\\anaconda3\\lib\\site-packages (from trio~=0.17->selenium) (21.4.0)\n",
      "Requirement already satisfied: cffi>=1.14 in c:\\users\\olatoyosiolamidebaba\\anaconda3\\lib\\site-packages (from trio~=0.17->selenium) (1.15.0)\n",
      "Requirement already satisfied: sortedcontainers in c:\\users\\olatoyosiolamidebaba\\anaconda3\\lib\\site-packages (from trio~=0.17->selenium) (2.4.0)\n",
      "Requirement already satisfied: sniffio in c:\\users\\olatoyosiolamidebaba\\anaconda3\\lib\\site-packages (from trio~=0.17->selenium) (1.2.0)\n",
      "Requirement already satisfied: outcome in c:\\users\\olatoyosiolamidebaba\\anaconda3\\lib\\site-packages (from trio~=0.17->selenium) (1.2.0)\n",
      "Requirement already satisfied: pycparser in c:\\users\\olatoyosiolamidebaba\\anaconda3\\lib\\site-packages (from cffi>=1.14->trio~=0.17->selenium) (2.21)\n",
      "Requirement already satisfied: wsproto>=0.14 in c:\\users\\olatoyosiolamidebaba\\anaconda3\\lib\\site-packages (from trio-websocket~=0.9->selenium) (1.2.0)\n",
      "Requirement already satisfied: PySocks!=1.5.7,<2.0,>=1.5.6 in c:\\users\\olatoyosiolamidebaba\\anaconda3\\lib\\site-packages (from urllib3[socks]~=1.26->selenium) (1.7.1)\n",
      "Requirement already satisfied: h11<1,>=0.9.0 in c:\\users\\olatoyosiolamidebaba\\anaconda3\\lib\\site-packages (from wsproto>=0.14->trio-websocket~=0.9->selenium) (0.13.0)\n",
      "Note: you may need to restart the kernel to use updated packages.\n"
     ]
    }
   ],
   "source": [
    "pip install selenium"
   ]
  },
  {
   "cell_type": "code",
   "execution_count": 1,
   "metadata": {},
   "outputs": [],
   "source": [
    "from selenium import webdriver"
   ]
  },
  {
   "cell_type": "code",
   "execution_count": 2,
   "metadata": {},
   "outputs": [],
   "source": [
    "driver_path =\"C:\\\\Users\\\\OlatoyosiOlamideBaba\\\\OneDrive - Harnham Search and Selection Ltd\\\\Desktop\\\\Training\\\\Week 9\\\\chromedriver.exe\""
   ]
  },
  {
   "cell_type": "code",
   "execution_count": 56,
   "metadata": {},
   "outputs": [
    {
     "name": "stderr",
     "output_type": "stream",
     "text": [
      "C:\\Users\\OlatoyosiOlamideBaba\\AppData\\Local\\Temp\\ipykernel_29668\\2650398687.py:1: DeprecationWarning: executable_path has been deprecated, please pass in a Service object\n",
      "  driver = webdriver.Chrome(driver_path)\n"
     ]
    }
   ],
   "source": [
    "driver = webdriver.Chrome(driver_path)"
   ]
  },
  {
   "cell_type": "code",
   "execution_count": 57,
   "metadata": {},
   "outputs": [
    {
     "data": {
      "text/plain": [
       "\"Air Jordan 1 Retro High OG 'Stealth'\\nAug 30\\n£154\\n£157\""
      ]
     },
     "execution_count": 57,
     "metadata": {},
     "output_type": "execute_result"
    }
   ],
   "source": [
    "driver.get('https://www.goat.com/sneakers')\n",
    "driver.find_element('xpath','/html/body/div[1]/div/main/div[1]/div/div[2]/div/div[1]/div[1]/a/div[1]').text\n"
   ]
  },
  {
   "cell_type": "code",
   "execution_count": 58,
   "metadata": {},
   "outputs": [
    {
     "data": {
      "text/plain": [
       "'£154\\n£157'"
      ]
     },
     "execution_count": 58,
     "metadata": {},
     "output_type": "execute_result"
    }
   ],
   "source": [
    "driver.find_element('xpath', '/html/body/div[1]/div/main/div[1]/div/div[2]/div/div[1]/div[1]/a/div[1]/div[2]/div').text"
   ]
  },
  {
   "cell_type": "code",
   "execution_count": 59,
   "metadata": {},
   "outputs": [
    {
     "data": {
      "text/plain": [
       "['£154', '£161', '£169', '£87', '£212', '£140', '£231', '£107', '£106']"
      ]
     },
     "execution_count": 59,
     "metadata": {},
     "output_type": "execute_result"
    }
   ],
   "source": [
    "Shoeprices = []\n",
    "for i in range(1,10):\n",
    "    shoes = driver.find_element('xpath', '//*[@id=\"grid-body\"]/div/div[1]/div[{}]/a/div[1]/div[2]/div/div/span'.format(i)).text\n",
    "    Shoeprices.append(shoes)\n",
    "\n",
    "Shoeprices"
   ]
  },
  {
   "cell_type": "code",
   "execution_count": 62,
   "metadata": {},
   "outputs": [],
   "source": [
    "import requests\n",
    "from bs4 import BeautifulSoup \n",
    "\n",
    "url ='https://www.goat.com/sneakers'"
   ]
  },
  {
   "cell_type": "code",
   "execution_count": 63,
   "metadata": {},
   "outputs": [],
   "source": [
    "\n",
    "page = requests.get(url)\n",
    "page\n",
    "soup = BeautifulSoup(page.text, \"html.parser\")"
   ]
  },
  {
   "cell_type": "code",
   "execution_count": 64,
   "metadata": {},
   "outputs": [
    {
     "data": {
      "text/plain": [
       "<link href=\"/images/icons/apple-touch-icon.png\" rel=\"apple-touch-icon\"/>"
      ]
     },
     "execution_count": 64,
     "metadata": {},
     "output_type": "execute_result"
    }
   ],
   "source": [
    "soup.find(href =True)"
   ]
  },
  {
   "cell_type": "code",
   "execution_count": 65,
   "metadata": {},
   "outputs": [
    {
     "data": {
      "text/plain": [
       "<script data-domain-script=\"1ba2b3d9-51ab-4bf3-8d29-9aaec1d64c11\" data-nscript=\"beforeInteractive\" defer=\"\" id=\"onetrust-script-1\" nonce=\"cf60e00aa22bdae4a041ec86557b23a2\" src=\"https://cdn.cookielaw.org/scripttemplates/otSDKStub.js\"></script>"
      ]
     },
     "execution_count": 65,
     "metadata": {},
     "output_type": "execute_result"
    }
   ],
   "source": [
    "soup.find(id = True)"
   ]
  },
  {
   "cell_type": "code",
   "execution_count": 68,
   "metadata": {},
   "outputs": [
    {
     "name": "stdout",
     "output_type": "stream",
     "text": [
      "[\"Air Jordan 1 Retro High OG 'Stealth'\", 'Aug 30', '£154', '£157']\n",
      "[\"Dunk Low 'Black White'\", '2021', '£160']\n",
      "[\"Air Max Penny 1 'Orlando' 2022\", 'Aug 11', '£169']\n",
      "[\"Air Jordan 4 Retro PS 'Military Black'\", 'May 21', '£87']\n",
      "[\"Travis Scott x Air Jordan 1 Low OG TD 'Reverse Mocha'\", 'Jul 21', '£212']\n",
      "[\"Wmns Dunk Low 'Rose Whisper'\", 'Jun 02', '£141']\n",
      "[\"Air Jordan 4 Retro SE 'Black Canvas'\", 'Oct 22', '£231']\n",
      "[\"Dunk High 'White Black'\", 'Jan 27', '£107']\n",
      "[\"Dunk Low GS 'Triple Pink'\", 'Jun 22', '£106']\n",
      "[\"Air Jordan 3 Retro 'Fire Red' 2022\", 'Sep 10', '£172', '£183']\n"
     ]
    }
   ],
   "source": [
    "\n",
    "for i in range(1,11):     \n",
    "    print(driver.find_element('xpath', '/html/body/div[1]/div/main/div[1]/div/div[2]/div/div[1]/div['+str(i)+']/a/div[1]').text.split('\\n'))\n",
    "\n"
   ]
  },
  {
   "cell_type": "code",
   "execution_count": 87,
   "metadata": {},
   "outputs": [
    {
     "data": {
      "text/plain": [
       "['Search',\n",
       " \"Air Jordan 3 Retro 'Dark Iris'\",\n",
       " \"A Ma Maniére x Air Ship 'Game Royal'\",\n",
       " 'Home',\n",
       " 'Shop 259,533 Items',\n",
       " 'Editorial',\n",
       " 'Timeline',\n",
       " 'Account',\n",
       " 'SNEAKERS',\n",
       " 'Sneakers for men, women and kids. From Nike and Air Jordan to adidas and Yeezy. Discover new releases, iconic styles and exclusive collaborations.',\n",
       " '10,000+ Items',\n",
       " 'Popular',\n",
       " 'Recently Released Sneakers',\n",
       " 'Price (Low - High)',\n",
       " 'Price (High - Low)',\n",
       " 'Brand',\n",
       " 'Category',\n",
       " 'Gender',\n",
       " 'Size',\n",
       " 'Condition',\n",
       " 'Color',\n",
       " 'Price',\n",
       " 'Instant',\n",
       " 'Under Retail',\n",
       " 'Available Now',\n",
       " 'Year',\n",
       " \"Air Jordan 1 Retro High OG 'Stealth'\",\n",
       " 'Aug 30',\n",
       " '£210',\n",
       " \"Dunk Low 'Black White'\",\n",
       " '2021',\n",
       " '£185',\n",
       " \"Air Max Penny 1 'Orlando' 2022\",\n",
       " 'Aug 11',\n",
       " '£239',\n",
       " \"Air Jordan 4 Retro PS 'Military Black'\",\n",
       " 'May 21',\n",
       " '£92',\n",
       " \"Travis Scott x Air Jordan 1 Low OG TD 'Reverse Mocha'\",\n",
       " 'Jul 21',\n",
       " '£294',\n",
       " \"Wmns Dunk Low 'Rose Whisper'\",\n",
       " 'Jun 02',\n",
       " '£176',\n",
       " \"Air Jordan 4 Retro SE 'Black Canvas'\",\n",
       " 'Oct 22',\n",
       " '£346',\n",
       " \"Dunk High 'White Black'\",\n",
       " 'Jan 27',\n",
       " '£130',\n",
       " \"Dunk Low GS 'Triple Pink'\",\n",
       " 'Jun 22',\n",
       " '£120',\n",
       " \"Air Jordan 3 Retro 'Fire Red' 2022\",\n",
       " 'Sep 10',\n",
       " '£224',\n",
       " \"Yeezy Slides 'Flax'\",\n",
       " 'Aug 22',\n",
       " '£81',\n",
       " \"Dunk Low GS 'Black White'\",\n",
       " '2021',\n",
       " '£141',\n",
       " \"Wmns Dunk Low 'Black White'\",\n",
       " '2021',\n",
       " '£196',\n",
       " \"Air Jordan 1 Low SE Craft 'Inside Out'\",\n",
       " 'Aug 04',\n",
       " '£144',\n",
       " \"Dunk Low 'UCLA'\",\n",
       " 'Aug 09',\n",
       " '£138',\n",
       " \"Dunk Low 'Reverse Panda'\",\n",
       " '£131',\n",
       " \"Yeezy Foam Runner 'Onyx'\",\n",
       " 'Jun 08',\n",
       " '£145',\n",
       " \"Yeezy Slides 'Onyx'\",\n",
       " 'Mar 07',\n",
       " '£83',\n",
       " \"Dunk Low Premium 'Vast Grey'\",\n",
       " 'Aug 23',\n",
       " '£154',\n",
       " \"Air Force 1 '07 'Triple White'\",\n",
       " '2020',\n",
       " '£103',\n",
       " \"550 'Sea Salt'\",\n",
       " 'Jul 01',\n",
       " '£186',\n",
       " \"Air Jordan 4 Retro 'Military Black'\",\n",
       " 'May 21',\n",
       " '£377',\n",
       " \"550 'White Grey'\",\n",
       " 'Jul 01',\n",
       " '£140',\n",
       " \"Wmns Dunk Low SE 'Safari Mix'\",\n",
       " 'May 05',\n",
       " '£129',\n",
       " 'Sign up for exclusive promos, popular releases & more',\n",
       " 'About',\n",
       " 'Buy',\n",
       " 'Sell',\n",
       " 'Support',\n",
       " 'Terms',\n",
       " 'Privacy',\n",
       " 'Cookie Settings',\n",
       " 'Location Preferences',\n",
       " 'Sitemap',\n",
       " '© 2022 1661, Inc. All Rights Reserved']"
      ]
     },
     "execution_count": 87,
     "metadata": {},
     "output_type": "execute_result"
    }
   ],
   "source": [
    "from selenium.webdriver.common.by import By\n",
    "\n",
    "driver.find_element(By.ID, \"__next\").text.split('\\n')\n",
    "\n"
   ]
  },
  {
   "cell_type": "code",
   "execution_count": 114,
   "metadata": {},
   "outputs": [
    {
     "ename": "NoSuchElementException",
     "evalue": "Message: no such element: Unable to locate element: {\"method\":\"link text\",\"selector\":\"2021\"}\n  (Session info: chrome=104.0.5112.102)\nStacktrace:\nBacktrace:\n\tOrdinal0 [0x005C78B3+2193587]\n\tOrdinal0 [0x00560681+1771137]\n\tOrdinal0 [0x004741A8+803240]\n\tOrdinal0 [0x004A24A0+992416]\n\tOrdinal0 [0x004A273B+993083]\n\tOrdinal0 [0x004CF7C2+1177538]\n\tOrdinal0 [0x004BD7F4+1103860]\n\tOrdinal0 [0x004CDAE2+1170146]\n\tOrdinal0 [0x004BD5C6+1103302]\n\tOrdinal0 [0x004977E0+948192]\n\tOrdinal0 [0x004986E6+952038]\n\tGetHandleVerifier [0x00870CB2+2738370]\n\tGetHandleVerifier [0x008621B8+2678216]\n\tGetHandleVerifier [0x006517AA+512954]\n\tGetHandleVerifier [0x00650856+509030]\n\tOrdinal0 [0x0056743B+1799227]\n\tOrdinal0 [0x0056BB68+1817448]\n\tOrdinal0 [0x0056BC55+1817685]\n\tOrdinal0 [0x00575230+1856048]\n\tBaseThreadInitThunk [0x7537FA29+25]\n\tRtlGetAppContainerNamedObjectPath [0x77437A9E+286]\n\tRtlGetAppContainerNamedObjectPath [0x77437A6E+238]\n",
     "output_type": "error",
     "traceback": [
      "\u001b[1;31m---------------------------------------------------------------------------\u001b[0m",
      "\u001b[1;31mNoSuchElementException\u001b[0m                    Traceback (most recent call last)",
      "\u001b[1;32mc:\\Users\\OlatoyosiOlamideBaba\\OneDrive - Harnham Search and Selection Ltd\\Desktop\\Training\\Week 9\\selenium.ipynb Cell 14\u001b[0m in \u001b[0;36m<cell line: 4>\u001b[1;34m()\u001b[0m\n\u001b[0;32m      <a href='vscode-notebook-cell:/c%3A/Users/OlatoyosiOlamideBaba/OneDrive%20-%20Harnham%20Search%20and%20Selection%20Ltd/Desktop/Training/Week%209/selenium.ipynb#X20sZmlsZQ%3D%3D?line=0'>1</a>\u001b[0m nike_buton \u001b[39m=\u001b[39m driver\u001b[39m.\u001b[39mfind_element(By\u001b[39m.\u001b[39mLINK_TEXT, \u001b[39m\"\u001b[39m\u001b[39mTimeline\u001b[39m\u001b[39m\"\u001b[39m)\u001b[39m.\u001b[39mclick()\n\u001b[0;32m      <a href='vscode-notebook-cell:/c%3A/Users/OlatoyosiOlamideBaba/OneDrive%20-%20Harnham%20Search%20and%20Selection%20Ltd/Desktop/Training/Week%209/selenium.ipynb#X20sZmlsZQ%3D%3D?line=1'>2</a>\u001b[0m nike_buton\n\u001b[1;32m----> <a href='vscode-notebook-cell:/c%3A/Users/OlatoyosiOlamideBaba/OneDrive%20-%20Harnham%20Search%20and%20Selection%20Ltd/Desktop/Training/Week%209/selenium.ipynb#X20sZmlsZQ%3D%3D?line=3'>4</a>\u001b[0m page2 \u001b[39m=\u001b[39m driver\u001b[39m.\u001b[39;49mfind_element(By\u001b[39m.\u001b[39;49mLINK_TEXT, \u001b[39m\"\u001b[39;49m\u001b[39m2021\u001b[39;49m\u001b[39m\"\u001b[39;49m)\u001b[39m.\u001b[39mclick()\n\u001b[0;32m      <a href='vscode-notebook-cell:/c%3A/Users/OlatoyosiOlamideBaba/OneDrive%20-%20Harnham%20Search%20and%20Selection%20Ltd/Desktop/Training/Week%209/selenium.ipynb#X20sZmlsZQ%3D%3D?line=4'>5</a>\u001b[0m page2\n",
      "File \u001b[1;32mc:\\Users\\OlatoyosiOlamideBaba\\anaconda3\\lib\\site-packages\\selenium\\webdriver\\remote\\webdriver.py:855\u001b[0m, in \u001b[0;36mWebDriver.find_element\u001b[1;34m(self, by, value)\u001b[0m\n\u001b[0;32m    852\u001b[0m     by \u001b[39m=\u001b[39m By\u001b[39m.\u001b[39mCSS_SELECTOR\n\u001b[0;32m    853\u001b[0m     value \u001b[39m=\u001b[39m \u001b[39m'\u001b[39m\u001b[39m[name=\u001b[39m\u001b[39m\"\u001b[39m\u001b[39m%s\u001b[39;00m\u001b[39m\"\u001b[39m\u001b[39m]\u001b[39m\u001b[39m'\u001b[39m \u001b[39m%\u001b[39m value\n\u001b[1;32m--> 855\u001b[0m \u001b[39mreturn\u001b[39;00m \u001b[39mself\u001b[39;49m\u001b[39m.\u001b[39;49mexecute(Command\u001b[39m.\u001b[39;49mFIND_ELEMENT, {\n\u001b[0;32m    856\u001b[0m     \u001b[39m'\u001b[39;49m\u001b[39musing\u001b[39;49m\u001b[39m'\u001b[39;49m: by,\n\u001b[0;32m    857\u001b[0m     \u001b[39m'\u001b[39;49m\u001b[39mvalue\u001b[39;49m\u001b[39m'\u001b[39;49m: value})[\u001b[39m'\u001b[39m\u001b[39mvalue\u001b[39m\u001b[39m'\u001b[39m]\n",
      "File \u001b[1;32mc:\\Users\\OlatoyosiOlamideBaba\\anaconda3\\lib\\site-packages\\selenium\\webdriver\\remote\\webdriver.py:428\u001b[0m, in \u001b[0;36mWebDriver.execute\u001b[1;34m(self, driver_command, params)\u001b[0m\n\u001b[0;32m    426\u001b[0m response \u001b[39m=\u001b[39m \u001b[39mself\u001b[39m\u001b[39m.\u001b[39mcommand_executor\u001b[39m.\u001b[39mexecute(driver_command, params)\n\u001b[0;32m    427\u001b[0m \u001b[39mif\u001b[39;00m response:\n\u001b[1;32m--> 428\u001b[0m     \u001b[39mself\u001b[39;49m\u001b[39m.\u001b[39;49merror_handler\u001b[39m.\u001b[39;49mcheck_response(response)\n\u001b[0;32m    429\u001b[0m     response[\u001b[39m'\u001b[39m\u001b[39mvalue\u001b[39m\u001b[39m'\u001b[39m] \u001b[39m=\u001b[39m \u001b[39mself\u001b[39m\u001b[39m.\u001b[39m_unwrap_value(\n\u001b[0;32m    430\u001b[0m         response\u001b[39m.\u001b[39mget(\u001b[39m'\u001b[39m\u001b[39mvalue\u001b[39m\u001b[39m'\u001b[39m, \u001b[39mNone\u001b[39;00m))\n\u001b[0;32m    431\u001b[0m     \u001b[39mreturn\u001b[39;00m response\n",
      "File \u001b[1;32mc:\\Users\\OlatoyosiOlamideBaba\\anaconda3\\lib\\site-packages\\selenium\\webdriver\\remote\\errorhandler.py:243\u001b[0m, in \u001b[0;36mErrorHandler.check_response\u001b[1;34m(self, response)\u001b[0m\n\u001b[0;32m    241\u001b[0m         alert_text \u001b[39m=\u001b[39m value[\u001b[39m'\u001b[39m\u001b[39malert\u001b[39m\u001b[39m'\u001b[39m]\u001b[39m.\u001b[39mget(\u001b[39m'\u001b[39m\u001b[39mtext\u001b[39m\u001b[39m'\u001b[39m)\n\u001b[0;32m    242\u001b[0m     \u001b[39mraise\u001b[39;00m exception_class(message, screen, stacktrace, alert_text)  \u001b[39m# type: ignore[call-arg]  # mypy is not smart enough here\u001b[39;00m\n\u001b[1;32m--> 243\u001b[0m \u001b[39mraise\u001b[39;00m exception_class(message, screen, stacktrace)\n",
      "\u001b[1;31mNoSuchElementException\u001b[0m: Message: no such element: Unable to locate element: {\"method\":\"link text\",\"selector\":\"2021\"}\n  (Session info: chrome=104.0.5112.102)\nStacktrace:\nBacktrace:\n\tOrdinal0 [0x005C78B3+2193587]\n\tOrdinal0 [0x00560681+1771137]\n\tOrdinal0 [0x004741A8+803240]\n\tOrdinal0 [0x004A24A0+992416]\n\tOrdinal0 [0x004A273B+993083]\n\tOrdinal0 [0x004CF7C2+1177538]\n\tOrdinal0 [0x004BD7F4+1103860]\n\tOrdinal0 [0x004CDAE2+1170146]\n\tOrdinal0 [0x004BD5C6+1103302]\n\tOrdinal0 [0x004977E0+948192]\n\tOrdinal0 [0x004986E6+952038]\n\tGetHandleVerifier [0x00870CB2+2738370]\n\tGetHandleVerifier [0x008621B8+2678216]\n\tGetHandleVerifier [0x006517AA+512954]\n\tGetHandleVerifier [0x00650856+509030]\n\tOrdinal0 [0x0056743B+1799227]\n\tOrdinal0 [0x0056BB68+1817448]\n\tOrdinal0 [0x0056BC55+1817685]\n\tOrdinal0 [0x00575230+1856048]\n\tBaseThreadInitThunk [0x7537FA29+25]\n\tRtlGetAppContainerNamedObjectPath [0x77437A9E+286]\n\tRtlGetAppContainerNamedObjectPath [0x77437A6E+238]\n"
     ]
    }
   ],
   "source": [
    "nike_buton = driver.find_element(By.LINK_TEXT, \"Timeline\").click()\n",
    "nike_buton\n"
   ]
  },
  {
   "cell_type": "code",
   "execution_count": 110,
   "metadata": {},
   "outputs": [],
   "source": []
  },
  {
   "cell_type": "code",
   "execution_count": 102,
   "metadata": {},
   "outputs": [
    {
     "data": {
      "text/plain": [
       "[\"Air Jordan 12 Retro 'Stealth'\"]"
      ]
     },
     "execution_count": 102,
     "metadata": {},
     "output_type": "execute_result"
    }
   ],
   "source": [
    "driver.find_element(By.TAG_NAME, \"li\").text.split('\\n')\n"
   ]
  },
  {
   "cell_type": "code",
   "execution_count": 115,
   "metadata": {},
   "outputs": [
    {
     "ename": "NoSuchElementException",
     "evalue": "Message: no such element: Unable to locate element: {\"method\":\"css selector\",\"selector\":\".Header__Container-sc-dik8tl-0 jKdLut\"}\n  (Session info: chrome=104.0.5112.102)\nStacktrace:\nBacktrace:\n\tOrdinal0 [0x005C78B3+2193587]\n\tOrdinal0 [0x00560681+1771137]\n\tOrdinal0 [0x004741A8+803240]\n\tOrdinal0 [0x004A24A0+992416]\n\tOrdinal0 [0x004A273B+993083]\n\tOrdinal0 [0x004CF7C2+1177538]\n\tOrdinal0 [0x004BD7F4+1103860]\n\tOrdinal0 [0x004CDAE2+1170146]\n\tOrdinal0 [0x004BD5C6+1103302]\n\tOrdinal0 [0x004977E0+948192]\n\tOrdinal0 [0x004986E6+952038]\n\tGetHandleVerifier [0x00870CB2+2738370]\n\tGetHandleVerifier [0x008621B8+2678216]\n\tGetHandleVerifier [0x006517AA+512954]\n\tGetHandleVerifier [0x00650856+509030]\n\tOrdinal0 [0x0056743B+1799227]\n\tOrdinal0 [0x0056BB68+1817448]\n\tOrdinal0 [0x0056BC55+1817685]\n\tOrdinal0 [0x00575230+1856048]\n\tBaseThreadInitThunk [0x7537FA29+25]\n\tRtlGetAppContainerNamedObjectPath [0x77437A9E+286]\n\tRtlGetAppContainerNamedObjectPath [0x77437A6E+238]\n",
     "output_type": "error",
     "traceback": [
      "\u001b[1;31m---------------------------------------------------------------------------\u001b[0m",
      "\u001b[1;31mNoSuchElementException\u001b[0m                    Traceback (most recent call last)",
      "\u001b[1;32mc:\\Users\\OlatoyosiOlamideBaba\\OneDrive - Harnham Search and Selection Ltd\\Desktop\\Training\\Week 9\\selenium.ipynb Cell 17\u001b[0m in \u001b[0;36m<cell line: 1>\u001b[1;34m()\u001b[0m\n\u001b[1;32m----> <a href='vscode-notebook-cell:/c%3A/Users/OlatoyosiOlamideBaba/OneDrive%20-%20Harnham%20Search%20and%20Selection%20Ltd/Desktop/Training/Week%209/selenium.ipynb#X22sZmlsZQ%3D%3D?line=0'>1</a>\u001b[0m driver\u001b[39m.\u001b[39;49mfind_element(By\u001b[39m.\u001b[39;49mCLASS_NAME, \u001b[39m'\u001b[39;49m\u001b[39mHeader__Container-sc-dik8tl-0 jKdLut\u001b[39;49m\u001b[39m'\u001b[39;49m)\u001b[39m.\u001b[39mtext\n",
      "File \u001b[1;32mc:\\Users\\OlatoyosiOlamideBaba\\anaconda3\\lib\\site-packages\\selenium\\webdriver\\remote\\webdriver.py:855\u001b[0m, in \u001b[0;36mWebDriver.find_element\u001b[1;34m(self, by, value)\u001b[0m\n\u001b[0;32m    852\u001b[0m     by \u001b[39m=\u001b[39m By\u001b[39m.\u001b[39mCSS_SELECTOR\n\u001b[0;32m    853\u001b[0m     value \u001b[39m=\u001b[39m \u001b[39m'\u001b[39m\u001b[39m[name=\u001b[39m\u001b[39m\"\u001b[39m\u001b[39m%s\u001b[39;00m\u001b[39m\"\u001b[39m\u001b[39m]\u001b[39m\u001b[39m'\u001b[39m \u001b[39m%\u001b[39m value\n\u001b[1;32m--> 855\u001b[0m \u001b[39mreturn\u001b[39;00m \u001b[39mself\u001b[39;49m\u001b[39m.\u001b[39;49mexecute(Command\u001b[39m.\u001b[39;49mFIND_ELEMENT, {\n\u001b[0;32m    856\u001b[0m     \u001b[39m'\u001b[39;49m\u001b[39musing\u001b[39;49m\u001b[39m'\u001b[39;49m: by,\n\u001b[0;32m    857\u001b[0m     \u001b[39m'\u001b[39;49m\u001b[39mvalue\u001b[39;49m\u001b[39m'\u001b[39;49m: value})[\u001b[39m'\u001b[39m\u001b[39mvalue\u001b[39m\u001b[39m'\u001b[39m]\n",
      "File \u001b[1;32mc:\\Users\\OlatoyosiOlamideBaba\\anaconda3\\lib\\site-packages\\selenium\\webdriver\\remote\\webdriver.py:428\u001b[0m, in \u001b[0;36mWebDriver.execute\u001b[1;34m(self, driver_command, params)\u001b[0m\n\u001b[0;32m    426\u001b[0m response \u001b[39m=\u001b[39m \u001b[39mself\u001b[39m\u001b[39m.\u001b[39mcommand_executor\u001b[39m.\u001b[39mexecute(driver_command, params)\n\u001b[0;32m    427\u001b[0m \u001b[39mif\u001b[39;00m response:\n\u001b[1;32m--> 428\u001b[0m     \u001b[39mself\u001b[39;49m\u001b[39m.\u001b[39;49merror_handler\u001b[39m.\u001b[39;49mcheck_response(response)\n\u001b[0;32m    429\u001b[0m     response[\u001b[39m'\u001b[39m\u001b[39mvalue\u001b[39m\u001b[39m'\u001b[39m] \u001b[39m=\u001b[39m \u001b[39mself\u001b[39m\u001b[39m.\u001b[39m_unwrap_value(\n\u001b[0;32m    430\u001b[0m         response\u001b[39m.\u001b[39mget(\u001b[39m'\u001b[39m\u001b[39mvalue\u001b[39m\u001b[39m'\u001b[39m, \u001b[39mNone\u001b[39;00m))\n\u001b[0;32m    431\u001b[0m     \u001b[39mreturn\u001b[39;00m response\n",
      "File \u001b[1;32mc:\\Users\\OlatoyosiOlamideBaba\\anaconda3\\lib\\site-packages\\selenium\\webdriver\\remote\\errorhandler.py:243\u001b[0m, in \u001b[0;36mErrorHandler.check_response\u001b[1;34m(self, response)\u001b[0m\n\u001b[0;32m    241\u001b[0m         alert_text \u001b[39m=\u001b[39m value[\u001b[39m'\u001b[39m\u001b[39malert\u001b[39m\u001b[39m'\u001b[39m]\u001b[39m.\u001b[39mget(\u001b[39m'\u001b[39m\u001b[39mtext\u001b[39m\u001b[39m'\u001b[39m)\n\u001b[0;32m    242\u001b[0m     \u001b[39mraise\u001b[39;00m exception_class(message, screen, stacktrace, alert_text)  \u001b[39m# type: ignore[call-arg]  # mypy is not smart enough here\u001b[39;00m\n\u001b[1;32m--> 243\u001b[0m \u001b[39mraise\u001b[39;00m exception_class(message, screen, stacktrace)\n",
      "\u001b[1;31mNoSuchElementException\u001b[0m: Message: no such element: Unable to locate element: {\"method\":\"css selector\",\"selector\":\".Header__Container-sc-dik8tl-0 jKdLut\"}\n  (Session info: chrome=104.0.5112.102)\nStacktrace:\nBacktrace:\n\tOrdinal0 [0x005C78B3+2193587]\n\tOrdinal0 [0x00560681+1771137]\n\tOrdinal0 [0x004741A8+803240]\n\tOrdinal0 [0x004A24A0+992416]\n\tOrdinal0 [0x004A273B+993083]\n\tOrdinal0 [0x004CF7C2+1177538]\n\tOrdinal0 [0x004BD7F4+1103860]\n\tOrdinal0 [0x004CDAE2+1170146]\n\tOrdinal0 [0x004BD5C6+1103302]\n\tOrdinal0 [0x004977E0+948192]\n\tOrdinal0 [0x004986E6+952038]\n\tGetHandleVerifier [0x00870CB2+2738370]\n\tGetHandleVerifier [0x008621B8+2678216]\n\tGetHandleVerifier [0x006517AA+512954]\n\tGetHandleVerifier [0x00650856+509030]\n\tOrdinal0 [0x0056743B+1799227]\n\tOrdinal0 [0x0056BB68+1817448]\n\tOrdinal0 [0x0056BC55+1817685]\n\tOrdinal0 [0x00575230+1856048]\n\tBaseThreadInitThunk [0x7537FA29+25]\n\tRtlGetAppContainerNamedObjectPath [0x77437A9E+286]\n\tRtlGetAppContainerNamedObjectPath [0x77437A6E+238]\n"
     ]
    }
   ],
   "source": [
    "driver.find_element(By.CLASS_NAME, 'Header__Container-sc-dik8tl-0 jKdLut').text"
   ]
  },
  {
   "cell_type": "code",
   "execution_count": 3,
   "metadata": {},
   "outputs": [],
   "source": [
    "from selenium.webdriver.common.keys import Keys"
   ]
  },
  {
   "cell_type": "code",
   "execution_count": 4,
   "metadata": {},
   "outputs": [
    {
     "name": "stderr",
     "output_type": "stream",
     "text": [
      "C:\\Users\\OlatoyosiOlamideBaba\\AppData\\Local\\Temp\\ipykernel_1852\\3390960463.py:1: DeprecationWarning: executable_path has been deprecated, please pass in a Service object\n",
      "  driver = webdriver.Chrome(driver_path)\n"
     ]
    }
   ],
   "source": [
    "driver = webdriver.Chrome(driver_path)\n",
    "driver.get('https://www.google.com/')"
   ]
  },
  {
   "cell_type": "code",
   "execution_count": 5,
   "metadata": {},
   "outputs": [],
   "source": [
    "target_path = '/html/body/div[1]/div[3]/form/div[1]/div[1]/div[1]/div/div[2]/input'"
   ]
  },
  {
   "cell_type": "code",
   "execution_count": 6,
   "metadata": {},
   "outputs": [
    {
     "data": {
      "text/plain": [
       "<selenium.webdriver.remote.webelement.WebElement (session=\"5553e81ff767fe9e84e5fbb6838b947a\", element=\"8e2d79a7-6b9d-44d6-a51c-1f41c93b0f65\")>"
      ]
     },
     "execution_count": 6,
     "metadata": {},
     "output_type": "execute_result"
    }
   ],
   "source": [
    "search_box = driver.find_element('xpath' ,target_path)\n",
    "\n",
    "search_box"
   ]
  },
  {
   "cell_type": "code",
   "execution_count": 7,
   "metadata": {},
   "outputs": [],
   "source": [
    "search_box.send_keys('Boss Man')"
   ]
  },
  {
   "cell_type": "code",
   "execution_count": 8,
   "metadata": {},
   "outputs": [],
   "source": [
    "search_box.clear()"
   ]
  },
  {
   "cell_type": "code",
   "execution_count": 155,
   "metadata": {},
   "outputs": [],
   "source": [
    "search_box.send_keys('German Shepherd')"
   ]
  },
  {
   "cell_type": "code",
   "execution_count": 156,
   "metadata": {},
   "outputs": [],
   "source": [
    "search_box.send_keys(Keys.ENTER)"
   ]
  },
  {
   "cell_type": "code",
   "execution_count": 146,
   "metadata": {},
   "outputs": [],
   "source": [
    "driver.find_element('xpath', '/html/body/div[7]/div/div[4]/div/div[1]/div/div[1]/div/div[3]/a').click()"
   ]
  },
  {
   "cell_type": "code",
   "execution_count": 148,
   "metadata": {},
   "outputs": [],
   "source": [
    "driver.back()"
   ]
  },
  {
   "cell_type": "code",
   "execution_count": 10,
   "metadata": {},
   "outputs": [],
   "source": [
    "driver.execute_script(\"alert('Alert via selenium')\")\n",
    "\n"
   ]
  },
  {
   "cell_type": "code",
   "execution_count": 162,
   "metadata": {},
   "outputs": [
    {
     "ename": "JavascriptException",
     "evalue": "Message: javascript error: Invalid or unexpected token\n  (Session info: chrome=104.0.5112.102)\nStacktrace:\nBacktrace:\n\tOrdinal0 [0x005C78B3+2193587]\n\tOrdinal0 [0x00560681+1771137]\n\tOrdinal0 [0x004741A8+803240]\n\tOrdinal0 [0x00476BB4+814004]\n\tOrdinal0 [0x00476A72+813682]\n\tOrdinal0 [0x004773EA+816106]\n\tOrdinal0 [0x004CE519+1172761]\n\tOrdinal0 [0x004BD7AC+1103788]\n\tOrdinal0 [0x004CDAE2+1170146]\n\tOrdinal0 [0x004BD5C6+1103302]\n\tOrdinal0 [0x004977E0+948192]\n\tOrdinal0 [0x004986E6+952038]\n\tGetHandleVerifier [0x00870CB2+2738370]\n\tGetHandleVerifier [0x008621B8+2678216]\n\tGetHandleVerifier [0x006517AA+512954]\n\tGetHandleVerifier [0x00650856+509030]\n\tOrdinal0 [0x0056743B+1799227]\n\tOrdinal0 [0x0056BB68+1817448]\n\tOrdinal0 [0x0056BC55+1817685]\n\tOrdinal0 [0x00575230+1856048]\n\tBaseThreadInitThunk [0x7537FA29+25]\n\tRtlGetAppContainerNamedObjectPath [0x77437A9E+286]\n\tRtlGetAppContainerNamedObjectPath [0x77437A6E+238]\n",
     "output_type": "error",
     "traceback": [
      "\u001b[1;31m---------------------------------------------------------------------------\u001b[0m",
      "\u001b[1;31mJavascriptException\u001b[0m                       Traceback (most recent call last)",
      "\u001b[1;32mc:\\Users\\OlatoyosiOlamideBaba\\OneDrive - Harnham Search and Selection Ltd\\Desktop\\Training\\Week 9\\selenium.ipynb Cell 29\u001b[0m in \u001b[0;36m<cell line: 1>\u001b[1;34m()\u001b[0m\n\u001b[1;32m----> <a href='vscode-notebook-cell:/c%3A/Users/OlatoyosiOlamideBaba/OneDrive%20-%20Harnham%20Search%20and%20Selection%20Ltd/Desktop/Training/Week%209/selenium.ipynb#X43sZmlsZQ%3D%3D?line=0'>1</a>\u001b[0m driver\u001b[39m.\u001b[39;49mexecute_script(\u001b[39m\"\u001b[39;49m\u001b[39malert(\u001b[39;49m\u001b[39m'\u001b[39;49m\u001b[39mhello)\u001b[39;49m\u001b[39m\"\u001b[39;49m)\n",
      "File \u001b[1;32mc:\\Users\\OlatoyosiOlamideBaba\\anaconda3\\lib\\site-packages\\selenium\\webdriver\\remote\\webdriver.py:491\u001b[0m, in \u001b[0;36mWebDriver.execute_script\u001b[1;34m(self, script, *args)\u001b[0m\n\u001b[0;32m    488\u001b[0m converted_args \u001b[39m=\u001b[39m \u001b[39mlist\u001b[39m(args)\n\u001b[0;32m    489\u001b[0m command \u001b[39m=\u001b[39m Command\u001b[39m.\u001b[39mW3C_EXECUTE_SCRIPT\n\u001b[1;32m--> 491\u001b[0m \u001b[39mreturn\u001b[39;00m \u001b[39mself\u001b[39;49m\u001b[39m.\u001b[39;49mexecute(command, {\n\u001b[0;32m    492\u001b[0m     \u001b[39m'\u001b[39;49m\u001b[39mscript\u001b[39;49m\u001b[39m'\u001b[39;49m: script,\n\u001b[0;32m    493\u001b[0m     \u001b[39m'\u001b[39;49m\u001b[39margs\u001b[39;49m\u001b[39m'\u001b[39;49m: converted_args})[\u001b[39m'\u001b[39m\u001b[39mvalue\u001b[39m\u001b[39m'\u001b[39m]\n",
      "File \u001b[1;32mc:\\Users\\OlatoyosiOlamideBaba\\anaconda3\\lib\\site-packages\\selenium\\webdriver\\remote\\webdriver.py:428\u001b[0m, in \u001b[0;36mWebDriver.execute\u001b[1;34m(self, driver_command, params)\u001b[0m\n\u001b[0;32m    426\u001b[0m response \u001b[39m=\u001b[39m \u001b[39mself\u001b[39m\u001b[39m.\u001b[39mcommand_executor\u001b[39m.\u001b[39mexecute(driver_command, params)\n\u001b[0;32m    427\u001b[0m \u001b[39mif\u001b[39;00m response:\n\u001b[1;32m--> 428\u001b[0m     \u001b[39mself\u001b[39;49m\u001b[39m.\u001b[39;49merror_handler\u001b[39m.\u001b[39;49mcheck_response(response)\n\u001b[0;32m    429\u001b[0m     response[\u001b[39m'\u001b[39m\u001b[39mvalue\u001b[39m\u001b[39m'\u001b[39m] \u001b[39m=\u001b[39m \u001b[39mself\u001b[39m\u001b[39m.\u001b[39m_unwrap_value(\n\u001b[0;32m    430\u001b[0m         response\u001b[39m.\u001b[39mget(\u001b[39m'\u001b[39m\u001b[39mvalue\u001b[39m\u001b[39m'\u001b[39m, \u001b[39mNone\u001b[39;00m))\n\u001b[0;32m    431\u001b[0m     \u001b[39mreturn\u001b[39;00m response\n",
      "File \u001b[1;32mc:\\Users\\OlatoyosiOlamideBaba\\anaconda3\\lib\\site-packages\\selenium\\webdriver\\remote\\errorhandler.py:243\u001b[0m, in \u001b[0;36mErrorHandler.check_response\u001b[1;34m(self, response)\u001b[0m\n\u001b[0;32m    241\u001b[0m         alert_text \u001b[39m=\u001b[39m value[\u001b[39m'\u001b[39m\u001b[39malert\u001b[39m\u001b[39m'\u001b[39m]\u001b[39m.\u001b[39mget(\u001b[39m'\u001b[39m\u001b[39mtext\u001b[39m\u001b[39m'\u001b[39m)\n\u001b[0;32m    242\u001b[0m     \u001b[39mraise\u001b[39;00m exception_class(message, screen, stacktrace, alert_text)  \u001b[39m# type: ignore[call-arg]  # mypy is not smart enough here\u001b[39;00m\n\u001b[1;32m--> 243\u001b[0m \u001b[39mraise\u001b[39;00m exception_class(message, screen, stacktrace)\n",
      "\u001b[1;31mJavascriptException\u001b[0m: Message: javascript error: Invalid or unexpected token\n  (Session info: chrome=104.0.5112.102)\nStacktrace:\nBacktrace:\n\tOrdinal0 [0x005C78B3+2193587]\n\tOrdinal0 [0x00560681+1771137]\n\tOrdinal0 [0x004741A8+803240]\n\tOrdinal0 [0x00476BB4+814004]\n\tOrdinal0 [0x00476A72+813682]\n\tOrdinal0 [0x004773EA+816106]\n\tOrdinal0 [0x004CE519+1172761]\n\tOrdinal0 [0x004BD7AC+1103788]\n\tOrdinal0 [0x004CDAE2+1170146]\n\tOrdinal0 [0x004BD5C6+1103302]\n\tOrdinal0 [0x004977E0+948192]\n\tOrdinal0 [0x004986E6+952038]\n\tGetHandleVerifier [0x00870CB2+2738370]\n\tGetHandleVerifier [0x008621B8+2678216]\n\tGetHandleVerifier [0x006517AA+512954]\n\tGetHandleVerifier [0x00650856+509030]\n\tOrdinal0 [0x0056743B+1799227]\n\tOrdinal0 [0x0056BB68+1817448]\n\tOrdinal0 [0x0056BC55+1817685]\n\tOrdinal0 [0x00575230+1856048]\n\tBaseThreadInitThunk [0x7537FA29+25]\n\tRtlGetAppContainerNamedObjectPath [0x77437A9E+286]\n\tRtlGetAppContainerNamedObjectPath [0x77437A6E+238]\n"
     ]
    }
   ],
   "source": [
    "driver.execute_script(\"alert('hello)\")"
   ]
  },
  {
   "cell_type": "code",
   "execution_count": 12,
   "metadata": {},
   "outputs": [],
   "source": [
    "driver.execute_script('window.scrollTo(0,500)')"
   ]
  },
  {
   "cell_type": "code",
   "execution_count": null,
   "metadata": {},
   "outputs": [],
   "source": [
    "import time\n",
    "time.sleep(3)\n",
    "driver.execute_script(;window.scrollTo(0,350))"
   ]
  }
 ],
 "metadata": {
  "kernelspec": {
   "display_name": "Python 3.9.12 ('base')",
   "language": "python",
   "name": "python3"
  },
  "language_info": {
   "codemirror_mode": {
    "name": "ipython",
    "version": 3
   },
   "file_extension": ".py",
   "mimetype": "text/x-python",
   "name": "python",
   "nbconvert_exporter": "python",
   "pygments_lexer": "ipython3",
   "version": "3.9.12"
  },
  "orig_nbformat": 4,
  "vscode": {
   "interpreter": {
    "hash": "ea367758829081f9a4f3db4408bfe675e434ce6bd9cebb6e7b3c1bdf01959b33"
   }
  }
 },
 "nbformat": 4,
 "nbformat_minor": 2
}
