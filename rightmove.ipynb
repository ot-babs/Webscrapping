{
 "cells": [
  {
   "cell_type": "code",
   "execution_count": 55,
   "metadata": {},
   "outputs": [],
   "source": [
    "#WebScraping initialisaiton\n",
    "\n",
    "import requests\n",
    "from bs4 import BeautifulSoup\n",
    "import pandas as pd\n",
    "import numpy as np\n",
    "url1 = 'https://www.rightmove.co.uk/property-for-sale/find.html?locationIdentifier=REGION%5E87540&maxBedrooms=3&minBedrooms=3&propertyTypes=detached%2Csemi-detached%2Cterraced&includeSSTC=false&mustHave=&dontShow=&furnishTypes=&keywords='\n",
    "page1 = requests.get(url1)\n",
    "soup1 = BeautifulSoup(page1.text, 'html.parser')\n"
   ]
  },
  {
   "cell_type": "code",
   "execution_count": 40,
   "metadata": {},
   "outputs": [
    {
     "data": {
      "text/plain": [
       "['\\n\\n\\n            3 bedroom end of terrace house for sale        \\n\\n\\n\\nCannon Close, Raynes Park\\n\\n\\n',\n",
       " '\\n\\n\\n            3 bedroom semi-detached house for sale        \\n\\n\\n\\nProspect Place, Wimbledon, London, SW20\\n\\n\\n',\n",
       " '\\n\\n\\n            3 bedroom house for sale        \\n\\n\\n\\nAlexandra Road, Wimbledon, London, SW19\\n\\n\\n',\n",
       " '\\n\\n\\n            3 bedroom detached house for sale        \\n\\n\\n\\nCottenham Park Road, West Wimbledon\\n\\n\\n',\n",
       " '\\n\\n\\n            3 bedroom detached house for sale        \\n\\n\\n\\nCopse Hill, Wimbledon\\n\\n\\n',\n",
       " '\\n\\n\\n            3 bedroom terraced house for sale        \\n\\n\\n\\nDenmark Road, Wimbledon Village, London, SW19\\n\\n\\n',\n",
       " '\\n\\n\\n            3 bedroom terraced house for sale        \\n\\n\\n\\nSomerset Road, London, SW19\\n\\n\\n',\n",
       " '\\n\\n\\n            3 bedroom detached house for sale        \\n\\n\\n\\nRidgway, Wimbledon, London, SW19\\n\\n\\n',\n",
       " '\\n\\n\\n            3 bedroom semi-detached house for sale        \\n\\n\\n\\nDawlish Avenue II, London SW18\\n\\n\\n',\n",
       " '\\n\\n\\n            3 bedroom semi-detached house for sale        \\n\\n\\n\\nQuintin Avenue, West Wimbledon\\n\\n\\n',\n",
       " '\\n\\n\\n            3 bedroom house for sale        \\n\\n\\n\\nDawlish Avenue, London\\n\\n\\n',\n",
       " '\\n\\n\\n            3 bedroom house for sale        \\n\\n\\n\\nTolverne Road, West Wimbledon, SW20\\n\\n\\n',\n",
       " '\\n\\n\\n            3 bedroom end of terrace house for sale        \\n\\n\\n\\nBraemar Avenue, Southfields\\n\\n\\n',\n",
       " '\\n\\n\\n            3 bedroom semi-detached house for sale        \\n\\n\\n\\nAmity Grove, West Wimbledon\\n\\n\\n',\n",
       " '\\n\\n\\n            3 bedroom terraced house for sale        \\n\\n\\n\\nWolseley Avenue, Wimbledon Park, London, SW19 8BG\\n\\n\\n',\n",
       " '\\n\\n\\n            3 bedroom semi-detached house for sale        \\n\\n\\n\\nFlorence Road, Wimbledon\\n\\n\\n',\n",
       " '\\n\\n\\n            3 bedroom detached house for sale        \\n\\n\\n\\nRussell Road, Wimbledon\\n\\n\\n',\n",
       " '\\n\\n\\n            3 bedroom semi-detached house for sale        \\n\\n\\n\\nCottenham Park Road, Wimbledon, London, SW20\\n\\n\\n',\n",
       " '\\n\\n\\n            3 bedroom terraced house for sale        \\n\\n\\n\\nGraham Road, London, SW19\\n\\n\\n',\n",
       " '\\n\\n\\n            3 bedroom house for sale        \\n\\n\\n\\nHeights Close, West Wimbledon, SW20\\n\\n\\n',\n",
       " '\\n\\n\\n            3 bedroom terraced house for sale        \\n\\n\\n\\nChurch Lane, Merton Park, London, SW19\\n\\n\\n',\n",
       " '\\n\\n\\n            3 bedroom house for sale        \\n\\n\\n\\nRavensbury Road, Earlsfield\\n\\n\\n',\n",
       " '\\n\\n\\n            3 bedroom house for sale        \\n\\n\\n\\nSouth Park Road, Wimbledon\\n\\n\\n',\n",
       " '\\n\\n\\n            3 bedroom terraced house for sale        \\n\\n\\n\\nMelbourne Road, Old Merton Park\\n\\n\\n',\n",
       " '\\n\\n\\n            3 bedroom terraced house for sale        \\n\\n\\n\\nCarlton Park Avenue, Raynes Park\\n\\n\\n']"
      ]
     },
     "execution_count": 40,
     "metadata": {},
     "output_type": "execute_result"
    }
   ],
   "source": [
    "#Page1\n",
    "propertyaddress = []\n",
    "for property in soup1.find_all('div', {'class': 'propertyCard-details'}):\n",
    "    propertyaddress.append(property.get_text())\n",
    "propertyaddress\n"
   ]
  },
  {
   "cell_type": "code",
   "execution_count": 67,
   "metadata": {},
   "outputs": [],
   "source": [
    "#Page3\n",
    "url2 = 'https://www.rightmove.co.uk/property-for-sale/find.html?locationIdentifier=REGION%5E87540&maxBedrooms=3&minBedrooms=3&index=24&propertyTypes=detached%2Csemi-detached%2Cterraced&includeSSTC=false&mustHave=&dontShow=&furnishTypes=&keywords='.format(page)\n",
    "page2 = requests.get(url2)\n",
    "soup2 = BeautifulSoup(page2.text, 'html.parser')"
   ]
  },
  {
   "cell_type": "code",
   "execution_count": 68,
   "metadata": {},
   "outputs": [
    {
     "data": {
      "text/plain": [
       "['\\n\\n\\n            3 bedroom semi-detached house for sale        \\n\\n\\n\\nOak Park Gardens, Wimbledon, SW19 6AR\\n\\n\\n',\n",
       " '\\n\\n\\n            3 bedroom terraced house for sale        \\n\\n\\n\\nSydney Road, Raynes Park\\n\\n\\n',\n",
       " '\\n\\n\\n            3 bedroom house for sale        \\n\\n\\n\\nMill Road, Wimbledon\\n\\n\\n',\n",
       " '\\n\\n\\n            3 bedroom semi-detached house for sale        \\n\\n\\n\\nOak Park Gardens, Wimbledon, SW19 6AR\\n\\n\\n',\n",
       " '\\n\\n\\n            3 bedroom semi-detached house for sale        \\n\\n\\n\\nWestcoombe Avenue, London\\n\\n\\n',\n",
       " '\\n\\n\\n            3 bedroom end of terrace house for sale        \\n\\n\\n\\nMeadow Close, Raynes Park\\n\\n\\n',\n",
       " '\\n\\n\\n            3 bedroom house for sale        \\n\\n\\n\\nClive Road, Wimbledon\\n\\n\\n',\n",
       " '\\n\\n\\n            3 bedroom end of terrace house for sale        \\n\\n\\n\\nGraham Road, Wimbledon, SW19\\n\\n\\n',\n",
       " '\\n\\n\\n            3 bedroom end of terrace house for sale        \\n\\n\\n\\nPilsdon Close, SW19\\n\\n\\n',\n",
       " '\\n\\n\\n            3 bedroom end of terrace house for sale        \\n\\n\\n\\nCannon Close, Raynes Park\\n\\n\\n',\n",
       " '\\n\\n\\n            3 bedroom terraced house for sale        \\n\\n\\n\\nMilton Road, Wimbledon\\n\\n\\n',\n",
       " '\\n\\n\\n            3 bedroom house for sale        \\n\\n\\n\\nBronson Road, Raynes Park, SW20\\n\\n\\n',\n",
       " '\\n\\n\\n            3 bedroom house for sale        \\n\\n\\n\\nEffra Road, Wimbledon\\n\\n\\n',\n",
       " '\\n\\n\\n            3 bedroom semi-detached house for sale        \\n\\n\\n\\nWorple Road, West Wimbledon\\n\\n\\n',\n",
       " '\\n\\n\\n            3 bedroom end of terrace house for sale        \\n\\n\\n\\nAylward Road, Merton Park, London, SW20 9AH\\n\\n\\n',\n",
       " '\\n\\n\\n            3 bedroom terraced house for sale        \\n\\n\\n\\nClifton Park Avenue, Raynes Park\\n\\n\\n',\n",
       " '\\n\\n\\n            3 bedroom semi-detached house for sale        \\n\\n\\n\\nGrand Drive, Raynes Park\\n\\n\\n',\n",
       " '\\n\\n\\n            3 bedroom end of terrace house for sale        \\n\\n\\n\\nWindermere Avenue, London\\n\\n\\n',\n",
       " '\\n\\n\\n            3 bedroom terraced house for sale        \\n\\n\\n\\nChase Side Avenue, Wimbledon\\n\\n\\n',\n",
       " '\\n\\n\\n            3 bedroom end of terrace house for sale        \\n\\n\\n\\nGranville Road, London, SW19\\n\\n\\n',\n",
       " '\\n\\n\\n            3 bedroom terraced house for sale        \\n\\n\\n\\nBriscoe Road, London, SW19\\n\\n\\n',\n",
       " '\\n\\n\\n            3 bedroom house for sale        \\n\\n\\n\\nMill Road, Wimbledon\\n\\n\\n',\n",
       " '\\n\\n\\n            3 bedroom terraced house for sale        \\n\\n\\n\\nWhatley Avenue, London, SW20 9NZ\\n\\n\\n',\n",
       " '\\n\\n\\n            3 bedroom end of terrace house for sale        \\n\\n\\n\\nSouthway, Raynes Park\\n\\n\\n',\n",
       " '\\n\\n\\n            3 bedroom terraced house for sale        \\n\\n\\n\\nHavelock Road, London, SW19\\n\\n\\n']"
      ]
     },
     "execution_count": 68,
     "metadata": {},
     "output_type": "execute_result"
    }
   ],
   "source": [
    "#Page3\n",
    "propertyaddress2 = []\n",
    "for property in soup2.find_all('div', {'class': 'propertyCard-details'}):\n",
    "    propertyaddress2.append(property.get_text())\n",
    "propertyaddress2"
   ]
  },
  {
   "cell_type": "code",
   "execution_count": 69,
   "metadata": {},
   "outputs": [],
   "source": [
    "#Page4\n",
    "url3 = 'https://www.rightmove.co.uk/property-for-sale/find.html?locationIdentifier=REGION%5E87540&maxBedrooms=3&minBedrooms=3&index=72&propertyTypes=detached%2Csemi-detached%2Cterraced&includeSSTC=false&mustHave=&dontShow=&furnishTypes=&keywords='\n",
    "page3 = requests.get(url3)\n",
    "soup3 = BeautifulSoup(page3.text, 'html.parser')"
   ]
  },
  {
   "cell_type": "code",
   "execution_count": 62,
   "metadata": {},
   "outputs": [
    {
     "data": {
      "text/plain": [
       "['\\n\\n\\n            3 bedroom house for sale        \\n\\n\\n\\nFortescue Road, Colliers Wood\\n\\n\\n',\n",
       " '\\n\\n\\n            3 bedroom terraced house for sale        \\n\\n\\n\\nPolesden Gardens, Raynes Park, SW20\\n\\n\\n',\n",
       " '\\n\\n\\n            3 bedroom terraced house for sale        \\n\\n\\n\\nWillmore End, Wimbledon\\n\\n\\n',\n",
       " '\\n\\n\\n            3 bedroom terraced house for sale        \\n\\n\\n\\nPolesden Gardens, Wimbledon, SW20\\n\\n\\n',\n",
       " '\\n\\n\\n            Property        \\n\\n\\n\\n\\n\\n\\n',\n",
       " '\\n\\n\\n            Property        \\n\\n\\n\\n\\n\\n\\n',\n",
       " '\\n\\n\\n            Property        \\n\\n\\n\\n\\n\\n\\n',\n",
       " '\\n\\n\\n            Property        \\n\\n\\n\\n\\n\\n\\n',\n",
       " '\\n\\n\\n            Property        \\n\\n\\n\\n\\n\\n\\n',\n",
       " '\\n\\n\\n            Property        \\n\\n\\n\\n\\n\\n\\n',\n",
       " '\\n\\n\\n            Property        \\n\\n\\n\\n\\n\\n\\n',\n",
       " '\\n\\n\\n            Property        \\n\\n\\n\\n\\n\\n\\n',\n",
       " '\\n\\n\\n            Property        \\n\\n\\n\\n\\n\\n\\n',\n",
       " '\\n\\n\\n            Property        \\n\\n\\n\\n\\n\\n\\n',\n",
       " '\\n\\n\\n            Property        \\n\\n\\n\\n\\n\\n\\n',\n",
       " '\\n\\n\\n            Property        \\n\\n\\n\\n\\n\\n\\n',\n",
       " '\\n\\n\\n            Property        \\n\\n\\n\\n\\n\\n\\n',\n",
       " '\\n\\n\\n            Property        \\n\\n\\n\\n\\n\\n\\n',\n",
       " '\\n\\n\\n            Property        \\n\\n\\n\\n\\n\\n\\n',\n",
       " '\\n\\n\\n            Property        \\n\\n\\n\\n\\n\\n\\n',\n",
       " '\\n\\n\\n            Property        \\n\\n\\n\\n\\n\\n\\n',\n",
       " '\\n\\n\\n            Property        \\n\\n\\n\\n\\n\\n\\n',\n",
       " '\\n\\n\\n            Property        \\n\\n\\n\\n\\n\\n\\n',\n",
       " '\\n\\n\\n            Property        \\n\\n\\n\\n\\n\\n\\n',\n",
       " '\\n\\n\\n            Property        \\n\\n\\n\\n\\n\\n\\n']"
      ]
     },
     "execution_count": 62,
     "metadata": {},
     "output_type": "execute_result"
    }
   ],
   "source": [
    "#Page4\n",
    "propertyaddress3 = []\n",
    "for property in soup3.find_all('div', {'class': 'propertyCard-details'}):\n",
    "    propertyaddress3.append(property.get_text())\n",
    "propertyaddress3"
   ]
  },
  {
   "cell_type": "code",
   "execution_count": 70,
   "metadata": {},
   "outputs": [],
   "source": [
    "#Page2\n",
    "url4 = 'https://www.rightmove.co.uk/property-for-sale/find.html?locationIdentifier=REGION%5E87540&maxBedrooms=3&minBedrooms=3&index=24&propertyTypes=detached%2Csemi-detached%2Cterraced&includeSSTC=false&mustHave=&dontShow=&furnishTypes=&keywords='\n",
    "page4 = requests.get(url4)\n",
    "soup4 = BeautifulSoup(page4.text, 'html.parser')\n"
   ]
  },
  {
   "cell_type": "code",
   "execution_count": 66,
   "metadata": {},
   "outputs": [
    {
     "data": {
      "text/plain": [
       "['\\n\\n\\n            3 bedroom semi-detached house for sale        \\n\\n\\n\\nOak Park Gardens, Wimbledon, SW19 6AR\\n\\n\\n',\n",
       " '\\n\\n\\n            3 bedroom terraced house for sale        \\n\\n\\n\\nSydney Road, Raynes Park\\n\\n\\n',\n",
       " '\\n\\n\\n            3 bedroom house for sale        \\n\\n\\n\\nMill Road, Wimbledon\\n\\n\\n',\n",
       " '\\n\\n\\n            3 bedroom semi-detached house for sale        \\n\\n\\n\\nOak Park Gardens, Wimbledon, SW19 6AR\\n\\n\\n',\n",
       " '\\n\\n\\n            3 bedroom semi-detached house for sale        \\n\\n\\n\\nWestcoombe Avenue, London\\n\\n\\n',\n",
       " '\\n\\n\\n            3 bedroom end of terrace house for sale        \\n\\n\\n\\nMeadow Close, Raynes Park\\n\\n\\n',\n",
       " '\\n\\n\\n            3 bedroom house for sale        \\n\\n\\n\\nClive Road, Wimbledon\\n\\n\\n',\n",
       " '\\n\\n\\n            3 bedroom end of terrace house for sale        \\n\\n\\n\\nGraham Road, Wimbledon, SW19\\n\\n\\n',\n",
       " '\\n\\n\\n            3 bedroom end of terrace house for sale        \\n\\n\\n\\nPilsdon Close, SW19\\n\\n\\n',\n",
       " '\\n\\n\\n            3 bedroom end of terrace house for sale        \\n\\n\\n\\nCannon Close, Raynes Park\\n\\n\\n',\n",
       " '\\n\\n\\n            3 bedroom terraced house for sale        \\n\\n\\n\\nMilton Road, Wimbledon\\n\\n\\n',\n",
       " '\\n\\n\\n            3 bedroom house for sale        \\n\\n\\n\\nBronson Road, Raynes Park, SW20\\n\\n\\n',\n",
       " '\\n\\n\\n            3 bedroom house for sale        \\n\\n\\n\\nEffra Road, Wimbledon\\n\\n\\n',\n",
       " '\\n\\n\\n            3 bedroom semi-detached house for sale        \\n\\n\\n\\nWorple Road, West Wimbledon\\n\\n\\n',\n",
       " '\\n\\n\\n            3 bedroom end of terrace house for sale        \\n\\n\\n\\nAylward Road, Merton Park, London, SW20 9AH\\n\\n\\n',\n",
       " '\\n\\n\\n            3 bedroom terraced house for sale        \\n\\n\\n\\nClifton Park Avenue, Raynes Park\\n\\n\\n',\n",
       " '\\n\\n\\n            3 bedroom semi-detached house for sale        \\n\\n\\n\\nGrand Drive, Raynes Park\\n\\n\\n',\n",
       " '\\n\\n\\n            3 bedroom end of terrace house for sale        \\n\\n\\n\\nWindermere Avenue, London\\n\\n\\n',\n",
       " '\\n\\n\\n            3 bedroom terraced house for sale        \\n\\n\\n\\nChase Side Avenue, Wimbledon\\n\\n\\n',\n",
       " '\\n\\n\\n            3 bedroom end of terrace house for sale        \\n\\n\\n\\nGranville Road, London, SW19\\n\\n\\n',\n",
       " '\\n\\n\\n            3 bedroom terraced house for sale        \\n\\n\\n\\nBriscoe Road, London, SW19\\n\\n\\n',\n",
       " '\\n\\n\\n            3 bedroom house for sale        \\n\\n\\n\\nMill Road, Wimbledon\\n\\n\\n',\n",
       " '\\n\\n\\n            3 bedroom terraced house for sale        \\n\\n\\n\\nWhatley Avenue, London, SW20 9NZ\\n\\n\\n',\n",
       " '\\n\\n\\n            3 bedroom end of terrace house for sale        \\n\\n\\n\\nSouthway, Raynes Park\\n\\n\\n',\n",
       " '\\n\\n\\n            3 bedroom terraced house for sale        \\n\\n\\n\\nHavelock Road, London, SW19\\n\\n\\n']"
      ]
     },
     "execution_count": 66,
     "metadata": {},
     "output_type": "execute_result"
    }
   ],
   "source": [
    "#Page2\n",
    "propertyaddress4 = []\n",
    "for property in soup4.find_all('div', {'class': 'propertyCard-details'}):\n",
    "    propertyaddress4.append(property.get_text())\n",
    "propertyaddress4"
   ]
  },
  {
   "cell_type": "code",
   "execution_count": null,
   "metadata": {},
   "outputs": [],
   "source": []
  }
 ],
 "metadata": {
  "kernelspec": {
   "display_name": "Python 3.9.12 ('base')",
   "language": "python",
   "name": "python3"
  },
  "language_info": {
   "codemirror_mode": {
    "name": "ipython",
    "version": 3
   },
   "file_extension": ".py",
   "mimetype": "text/x-python",
   "name": "python",
   "nbconvert_exporter": "python",
   "pygments_lexer": "ipython3",
   "version": "3.9.12"
  },
  "orig_nbformat": 4,
  "vscode": {
   "interpreter": {
    "hash": "ea367758829081f9a4f3db4408bfe675e434ce6bd9cebb6e7b3c1bdf01959b33"
   }
  }
 },
 "nbformat": 4,
 "nbformat_minor": 2
}
